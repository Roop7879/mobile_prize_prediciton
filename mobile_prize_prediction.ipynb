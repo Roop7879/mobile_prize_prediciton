{
 "cells": [
  {
   "cell_type": "markdown",
   "id": "e515b531",
   "metadata": {},
   "source": [
    "## import Necessary libraries"
   ]
  },
  {
   "cell_type": "code",
   "execution_count": null,
   "id": "7fa6d569",
   "metadata": {},
   "outputs": [
    {
     "ename": "",
     "evalue": "",
     "output_type": "error",
     "traceback": [
      "\u001b[1;31mThe kernel failed to start as the Python Environment 'c:\\Users\\Herry\\Desktop\\flipkart mobile prize\\project_2\\Scripts\\python.exe' is no longer available. Consider selecting another kernel or refreshing the list of Python Environments."
     ]
    }
   ],
   "source": [
    "import pandas as pd\n",
    "import numpy as np\n",
    "import matplotlib.pyplot as plt\n",
    "import seaborn as sns\n",
    "from sklearn.model_selection import train_test_split\n",
    "from sklearn.linear_model import LinearRegression\n",
    "from sklearn.preprocessing import LabelEncoder\n",
    "import pickle\n"
   ]
  },
  {
   "cell_type": "markdown",
   "id": "7a54b3af",
   "metadata": {},
   "source": [
    "## import CSV file"
   ]
  },
  {
   "cell_type": "code",
   "execution_count": null,
   "id": "4f22e1a9",
   "metadata": {},
   "outputs": [],
   "source": [
    "df=pd.read_csv(r'F:\\ADS\\Web Scrapping\\data_.csv')"
   ]
  },
  {
   "cell_type": "markdown",
   "id": "04a60371",
   "metadata": {},
   "source": [
    "## Data Cleaning"
   ]
  },
  {
   "cell_type": "code",
   "execution_count": null,
   "id": "3532baec",
   "metadata": {},
   "outputs": [],
   "source": [
    "#1. Change the column's name\n",
    "df.rename(columns={'Product_name.1':'Product_name','Sum of Product_Price':'Product_Price','Sum of RAM in (GB)':'RAM in (GB)','Sum of ROM in (GB)':'ROM in (GB)','Sum of Battery':'Battery','Sum of Reviews':'Reviews'},inplace=True)"
   ]
  },
  {
   "cell_type": "code",
   "execution_count": null,
   "id": "c68fb71f",
   "metadata": {},
   "outputs": [],
   "source": [
    "#2. Check null values\n",
    "df.isnull().sum()"
   ]
  },
  {
   "cell_type": "code",
   "execution_count": null,
   "id": "04dc1dfb",
   "metadata": {},
   "outputs": [],
   "source": [
    "#3. Here we found that we have 4 null values in Reviews column...to remove it---\n",
    "\n",
    "df.fillna(df.Reviews.mode()[0],inplace=True)\n",
    "\n",
    "# Note- We can also replace null value with mean\n",
    "# df.fillna(df.Reviews.mean()[0],inplace=True)"
   ]
  },
  {
   "cell_type": "code",
   "execution_count": null,
   "id": "a955d338",
   "metadata": {},
   "outputs": [],
   "source": [
    "#4. Add a column of Brand----\n",
    "# Method 1.\n",
    "df['Brand']=df.Product_name.str.split(expand=True)[0]\n",
    "\n",
    "# Method 2.\n",
    "'''\n",
    "--Try by yourself--\n",
    "\n",
    "def rep(col):\n",
    "                            \n",
    "    a=str(col).split()\n",
    "    return a[0]\n",
    "\n",
    "df.Product_name.apply(rep)\n",
    "\n",
    "'''"
   ]
  },
  {
   "cell_type": "code",
   "execution_count": null,
   "id": "17de6386",
   "metadata": {},
   "outputs": [],
   "source": [
    "#5. At the Index 7 the value of product \"I Kall K570\" is \"I\" in Column Brand...We have to replace it with \"I Kall\"\n",
    "df.Brand.replace('I','I Kall',inplace=True)"
   ]
  },
  {
   "cell_type": "code",
   "execution_count": null,
   "id": "48c111a4",
   "metadata": {},
   "outputs": [],
   "source": [
    "# We have to replce \"₹ \" to ' ' , so we will not face any issue in model building.\n",
    "\n",
    "def rem(col):\n",
    "    return col.replace('₹ ',' ')\n",
    "\n",
    "df.Product_Price=df.Product_Price.apply(rem)"
   ]
  },
  {
   "cell_type": "code",
   "execution_count": null,
   "id": "5aa0fbba",
   "metadata": {},
   "outputs": [],
   "source": [
    "#6. In Product_price column we have \",\" between values.. To remove it--\n",
    "def coma(col):\n",
    "    return int(str(col).replace(',',''))\n",
    "\n",
    "df.Product_Price=df.Product_Price.apply(coma)"
   ]
  },
  {
   "cell_type": "markdown",
   "id": "3035399c",
   "metadata": {},
   "source": [
    "## Do some EDA(Exploratory data analysis)"
   ]
  },
  {
   "cell_type": "code",
   "execution_count": null,
   "id": "72e2c02a",
   "metadata": {},
   "outputs": [],
   "source": [
    "# How many unique Brand we have--\n",
    "df.Brand.unique()"
   ]
  },
  {
   "cell_type": "code",
   "execution_count": null,
   "id": "f94e8b48",
   "metadata": {},
   "outputs": [],
   "source": [
    "# lets see the overview...\n",
    "df.describe()\n",
    "\n",
    "# Here we find that the min and max value of Battery and Reviews is inappropriate"
   ]
  },
  {
   "cell_type": "code",
   "execution_count": null,
   "id": "f0a6ed11",
   "metadata": {},
   "outputs": [],
   "source": [
    "# We want those Products whose reviews is smaller than 5--\n",
    "df=df[(df.Reviews>=0) & (df.Reviews<=5.0)]"
   ]
  },
  {
   "cell_type": "code",
   "execution_count": null,
   "id": "6ce2a738",
   "metadata": {},
   "outputs": [],
   "source": [
    "# We want those Products whose Battery is smaller or equal 2500 & greater or eqaul 8000--\n",
    "df=df[(df.Battery>=2500) & (df.Battery<=8000)]\n"
   ]
  },
  {
   "cell_type": "code",
   "execution_count": null,
   "id": "b9d45909",
   "metadata": {},
   "outputs": [],
   "source": [
    "# count the value of each Brand--\n",
    "df.value_counts('Brand')"
   ]
  },
  {
   "cell_type": "code",
   "execution_count": null,
   "id": "a613f431",
   "metadata": {},
   "outputs": [],
   "source": [
    "# Find the count of products who have same price--\n",
    "df.Product_Price.value_counts().sort_values(ascending=False)"
   ]
  },
  {
   "cell_type": "code",
   "execution_count": null,
   "id": "f7bad416",
   "metadata": {},
   "outputs": [],
   "source": [
    "# count of products who have same colour--\n",
    "df.Product_colour.value_counts()"
   ]
  },
  {
   "cell_type": "code",
   "execution_count": null,
   "id": "63e685d4",
   "metadata": {},
   "outputs": [],
   "source": [
    "# Find how many product have price greater than 10,000--\n",
    "df[df['Product_Price'] > 10000]\n",
    "\n",
    "\n"
   ]
  },
  {
   "cell_type": "code",
   "execution_count": null,
   "id": "e9c065a8",
   "metadata": {},
   "outputs": [],
   "source": [
    "# Find how many product have Battery greater than 3000--\n",
    "\n",
    "df[df['Battery'] > 3000]"
   ]
  },
  {
   "cell_type": "code",
   "execution_count": null,
   "id": "a691b751",
   "metadata": {},
   "outputs": [],
   "source": [
    "# Create a new column which represent the category of Product by its Reviews like--\"Bad\",\"Avg\",\"Good\"\n",
    "condtions=[\n",
    "    (df['Reviews']<=2),\n",
    "    (df['Reviews']>2) & (df['Reviews']<=3),\n",
    "    (df['Reviews']>3) & (df['Reviews']<=5)    \n",
    "]\n",
    "qun=['Bad','Avg','Good']\n",
    "df['Quality by Reviews']=np.select(condtions,qun)"
   ]
  },
  {
   "cell_type": "code",
   "execution_count": null,
   "id": "2248c67e",
   "metadata": {},
   "outputs": [],
   "source": [
    "# count of \"Quality by Reviews\"\n",
    "df.value_counts('Quality by Reviews')"
   ]
  },
  {
   "cell_type": "code",
   "execution_count": null,
   "id": "61bee502",
   "metadata": {},
   "outputs": [],
   "source": [
    "df"
   ]
  },
  {
   "cell_type": "markdown",
   "id": "e987001a",
   "metadata": {},
   "source": [
    "## Visualization & Relationship"
   ]
  },
  {
   "cell_type": "code",
   "execution_count": null,
   "id": "b1618748",
   "metadata": {},
   "outputs": [],
   "source": [
    "# Relation b/w Battery and Product_price\n",
    "plt.subplot(2,2,1)\n",
    "plt.scatter(df['Battery'],df.Product_Price)\n",
    "plt.xlabel('Battery')\n",
    "plt.ylabel('Price')\n",
    "plt.title('With scatter plot')\n",
    "\n",
    "# Relation b/w ROM in (GB) and Product_price\n",
    "\n",
    "plt.subplot(2,2,3)\n",
    "plt.scatter(df['Reviews'],df.Product_Price)\n",
    "plt.xlabel('Reviews')\n",
    "plt.ylabel('Price')\n",
    "plt.title('With scatter plot')\n",
    "\n",
    "plt.subplot(2,2,4)\n",
    "plt.bar(df['Reviews'],df.Product_Price)\n",
    "plt.xlabel('Reviews')\n",
    "plt.ylabel('Price')\n",
    "plt.title('With Bar plot')\n",
    "\n",
    "plt.subplots_adjust(left=0.1,\n",
    "                    bottom=0.1,\n",
    "                    right=2,\n",
    "                    top=1,\n",
    "                    wspace=0.4,\n",
    "                    hspace=0.4)\n",
    "plt.show()"
   ]
  },
  {
   "cell_type": "code",
   "execution_count": null,
   "id": "2fb280c4",
   "metadata": {},
   "outputs": [],
   "source": [
    "# Relation b/w RAM in (GB) and Product_price\n",
    "plt.subplot(2,2,1)\n",
    "plt.scatter(df['RAM in (GB)'],df.Product_Price)\n",
    "plt.xlabel('RAM in (GB)')\n",
    "plt.ylabel('Price')\n",
    "plt.title('With scatter plot')\n",
    "\n",
    "plt.subplot(2,2,2)\n",
    "plt.bar(df['RAM in (GB)'],df.Product_Price)\n",
    "plt.xlabel('RAM in (GB)')\n",
    "plt.ylabel('Price')\n",
    "plt.title('With Bar plot')\n",
    "\n",
    "# Relation b/w ROM in (GB) and Product_price\n",
    "\n",
    "plt.subplot(2,2,3)\n",
    "plt.scatter(df['ROM in (GB)'],df.Product_Price)\n",
    "plt.xlabel('ROM in (GB)')\n",
    "plt.ylabel('Price')\n",
    "plt.title('With scatter plot')\n",
    "\n",
    "plt.subplot(2,2,4)\n",
    "plt.bar(df['ROM in (GB)'],df.Product_Price)\n",
    "plt.xlabel('ROM in (GB)')\n",
    "plt.ylabel('Price')\n",
    "plt.title('With Bar plot')\n",
    "\n",
    "plt.subplots_adjust(left=0.1,\n",
    "                    bottom=0.1,\n",
    "                    right=2,\n",
    "                    top=1,\n",
    "                    wspace=0.4,\n",
    "                    hspace=0.4)\n",
    "plt.show()"
   ]
  },
  {
   "cell_type": "markdown",
   "id": "2f1b7e65",
   "metadata": {},
   "source": [
    "## Prepare models for price prediction"
   ]
  },
  {
   "cell_type": "code",
   "execution_count": null,
   "id": "2216d032",
   "metadata": {},
   "outputs": [],
   "source": [
    "# train_test_split\n",
    "train,test=train_test_split(df,test_size=0.20,random_state=0)"
   ]
  },
  {
   "cell_type": "code",
   "execution_count": null,
   "id": "c0ff5a3b",
   "metadata": {},
   "outputs": [],
   "source": [
    "train"
   ]
  },
  {
   "cell_type": "code",
   "execution_count": null,
   "id": "d330402b",
   "metadata": {},
   "outputs": [],
   "source": [
    "x_train=train.drop(['Product_name','Product_Price','Quality by Reviews'],axis=1)"
   ]
  },
  {
   "cell_type": "code",
   "execution_count": null,
   "id": "40cb30d7",
   "metadata": {},
   "outputs": [],
   "source": [
    "y_train=train.Product_Price"
   ]
  },
  {
   "cell_type": "code",
   "execution_count": null,
   "id": "344c9076",
   "metadata": {},
   "outputs": [],
   "source": [
    "x_test=test.drop(['Product_name','Product_Price','Quality by Reviews'],axis=1)"
   ]
  },
  {
   "cell_type": "code",
   "execution_count": null,
   "id": "841add9b",
   "metadata": {},
   "outputs": [],
   "source": [
    "y_test=test.Product_Price"
   ]
  },
  {
   "cell_type": "code",
   "execution_count": null,
   "id": "e5637cfe",
   "metadata": {},
   "outputs": [],
   "source": [
    "# Create an object of LabelEncoder\n",
    "le=LabelEncoder()"
   ]
  },
  {
   "cell_type": "code",
   "execution_count": null,
   "id": "57bf84ea",
   "metadata": {},
   "outputs": [],
   "source": [
    "# Convert the categorical values into numeric...\n",
    "def convert(df,col):\n",
    "    for i in col:\n",
    "        df[i]=le.fit_transform(df[i])\n",
    "        \n",
    "    return df"
   ]
  },
  {
   "cell_type": "code",
   "execution_count": null,
   "id": "7d5a0a6f",
   "metadata": {},
   "outputs": [],
   "source": [
    "convert(x_train,['Product_colour','Brand'])"
   ]
  },
  {
   "cell_type": "code",
   "execution_count": null,
   "id": "909e21cb",
   "metadata": {},
   "outputs": [],
   "source": [
    "convert(x_test,['Product_colour','Brand'])"
   ]
  },
  {
   "cell_type": "code",
   "execution_count": null,
   "id": "49fd7347",
   "metadata": {},
   "outputs": [],
   "source": [
    "# Create an object of LinearRegression...\n",
    "lr=LinearRegression()"
   ]
  },
  {
   "cell_type": "code",
   "execution_count": null,
   "id": "c3e39fab",
   "metadata": {},
   "outputs": [],
   "source": [
    "lr.fit(x_train,y_train)"
   ]
  },
  {
   "cell_type": "code",
   "execution_count": null,
   "id": "6198b2a6",
   "metadata": {},
   "outputs": [],
   "source": [
    "pred=lr.predict(x_test)"
   ]
  },
  {
   "cell_type": "code",
   "execution_count": null,
   "id": "a28ca812",
   "metadata": {
    "scrolled": true
   },
   "outputs": [],
   "source": [
    "pred"
   ]
  },
  {
   "cell_type": "code",
   "execution_count": null,
   "id": "95acca9f",
   "metadata": {},
   "outputs": [],
   "source": [
    "from sklearn.metrics import mean_absolute_error,mean_squared_error"
   ]
  },
  {
   "cell_type": "code",
   "execution_count": null,
   "id": "e6018eae",
   "metadata": {},
   "outputs": [],
   "source": [
    "mean_squared_error(y_test,pred)"
   ]
  },
  {
   "cell_type": "code",
   "execution_count": null,
   "id": "ff702f3a",
   "metadata": {},
   "outputs": [],
   "source": [
    "mean_absolute_error(y_test,pred)"
   ]
  },
  {
   "cell_type": "markdown",
   "id": "f76caac8",
   "metadata": {},
   "source": [
    "## Model Deployement"
   ]
  },
  {
   "cell_type": "code",
   "execution_count": null,
   "id": "ffe97e9c",
   "metadata": {},
   "outputs": [],
   "source": [
    "pickle.dump(lr,open('Mobile_prize_prediction.pkl','wb'))"
   ]
  },
  {
   "cell_type": "code",
   "execution_count": null,
   "id": "46290472",
   "metadata": {},
   "outputs": [],
   "source": [
    "pickeled_model=pickle.load(open('Mobile_prize_prediction.pkl','rb'))"
   ]
  },
  {
   "cell_type": "code",
   "execution_count": null,
   "id": "266a8856",
   "metadata": {
    "scrolled": true
   },
   "outputs": [],
   "source": [
    "pickeled_model.predict([[11,3,32,5000,4.3,4]])"
   ]
  }
 ],
 "metadata": {
  "kernelspec": {
   "display_name": "venv",
   "language": "python",
   "name": "python3"
  },
  "language_info": {
   "codemirror_mode": {
    "name": "ipython",
    "version": 3
   },
   "file_extension": ".py",
   "mimetype": "text/x-python",
   "name": "python",
   "nbconvert_exporter": "python",
   "pygments_lexer": "ipython3",
   "version": "3.11.1"
  },
  "vscode": {
   "interpreter": {
    "hash": "28a6462c6f0df1d06a91c6594f8349d882633996e385d756bdf7a8e6e50bb69d"
   }
  }
 },
 "nbformat": 4,
 "nbformat_minor": 5
}
